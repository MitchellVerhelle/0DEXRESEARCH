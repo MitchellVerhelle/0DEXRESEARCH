{
 "cells": [
  {
   "cell_type": "code",
   "execution_count": null,
   "id": "06304a44-9703-4449-8b24-0b7078744254",
   "metadata": {},
   "outputs": [],
   "source": [
    "import unittest\n",
    "import numpy as np\n",
    "from users import RegularUser, SybilUser\n",
    "from user_pool import UserPool\n",
    "\n",
    "class TestUserSimulation(unittest.TestCase):\n",
    "\n",
    "    def test_regular_user_preTGE(self):\n",
    "        user = RegularUser(wealth=1000, user_id=1, user_size='small')\n",
    "        initial_points = user.airdrop_points\n",
    "        user.step('PreTGE')\n",
    "        self.assertGreater(user.airdrop_points, initial_points,\n",
    "                           \"RegularUser should accumulate airdrop points during PreTGE.\")\n",
    "\n",
    "    def test_regular_user_TGE(self):\n",
    "        user = RegularUser(wealth=1000, user_id=2, user_size='medium')\n",
    "        user.airdrop_points = 10\n",
    "        user.step('TGE')\n",
    "        self.assertEqual(user.tokens, 10,\n",
    "                         \"Default AirdropPolicy should assign tokens equal to airdrop points.\")\n",
    "\n",
    "    def test_regular_user_postTGE(self):\n",
    "        user = RegularUser(wealth=1000, user_id=3, user_size='large')\n",
    "        user.step('PostTGE')\n",
    "        self.assertIn(user.active, [True, False],\n",
    "                      \"User active status should be a boolean after PostTGE.\")\n",
    "\n",
    "    def test_sybil_user_behavior(self):\n",
    "        user = SybilUser(wealth=500, user_id=4)\n",
    "        user.step('PreTGE')\n",
    "        user.step('TGE')\n",
    "        user.step('PostTGE')\n",
    "        self.assertFalse(user.active,\n",
    "                         \"SybilUser should become inactive after TGE.\")\n",
    "        self.assertGreaterEqual(user.tokens, 0,\n",
    "                                \"SybilUser should receive tokens at TGE even with minimal activity.\")\n",
    "\n",
    "    def test_user_pool_generation(self):\n",
    "        pool = UserPool(num_users=1000)\n",
    "        self.assertEqual(len(pool.users), 1000, \"UserPool should generate the correct number of users.\")\n",
    "        num_sybil = sum(isinstance(u, SybilUser) for u in pool.users)\n",
    "        num_regular = sum(isinstance(u, RegularUser) for u in pool.users)\n",
    "        self.assertEqual(num_sybil + num_regular, 1000,\n",
    "                         \"UserPool should contain only RegularUser or SybilUser instances.\")\n",
    "        self.assertTrue(250 < num_sybil < 350,\n",
    "                        \"Sybil percentage should be around 30% of total users.\")\n",
    "\n",
    "if __name__ == '__main__':\n",
    "    unittest.main(argv=[''], exit=False)\n"
   ]
  }
 ],
 "metadata": {
  "kernelspec": {
   "display_name": "Python 3 (ipykernel)",
   "language": "python",
   "name": "python3"
  },
  "language_info": {
   "codemirror_mode": {
    "name": "ipython",
    "version": 3
   },
   "file_extension": ".py",
   "mimetype": "text/x-python",
   "name": "python",
   "nbconvert_exporter": "python",
   "pygments_lexer": "ipython3",
   "version": "3.11.5"
  }
 },
 "nbformat": 4,
 "nbformat_minor": 5
}
